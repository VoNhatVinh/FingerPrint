{
 "cells": [
  {
   "cell_type": "code",
   "execution_count": 13,
   "metadata": {},
   "outputs": [],
   "source": [
    "#import thư viện\n",
    "import h5py\n",
    "import matplotlib.pyplot as plt\n",
    "import numpy as np\n",
    "import math\n",
    "import seaborn as sns\n",
    "import cv2"
   ]
  },
  {
   "cell_type": "code",
   "execution_count": 8,
   "metadata": {},
   "outputs": [],
   "source": [
    "def grayscale(img):\n",
    "    r, g, b = img[:, :, 0], img[:, :, 1], img[:, :, 2]\n",
    "    gray = 0.2989 * r + 0.5870 * g + 0.1140 * b\n",
    "    return gray"
   ]
  },
  {
   "cell_type": "code",
   "execution_count": 9,
   "metadata": {},
   "outputs": [],
   "source": [
    "#normalize\n",
    "import math\n",
    "import numpy as np\n",
    "from copy import deepcopy\n",
    "\n",
    "def getMean(img):\n",
    "    '''Hàm tính trung vị ảnh đã gray scale'''\n",
    "    mean = 0\n",
    "    w, h = img.shape\n",
    "    for i in range(w):\n",
    "        for j in range(h):\n",
    "            mean += img[i, j]\n",
    "    return mean/(w*h)\n",
    "\n",
    "def getVariance(img, _mean):\n",
    "    '''Hàm tính phương sai ảnh đã gray scale dựa vào tham số là trung vị'''\n",
    "    variance = 0\n",
    "    w, h = img.shape\n",
    "    for i in range(w):\n",
    "        for j in range(h):\n",
    "            variance += (img[i,j] - _mean)**2\n",
    "    return variance/(w*h)\n",
    "\n",
    "def normalize(img, nMean, nVar):\n",
    "    '''Hàm để chuẩn hóa img đã gray scale từ trung vị và phương sai cũ \n",
    "    thành trung vị mới là nMean và phương sai mới là nVar'''\n",
    "    w, h = img.shape\n",
    "    _mean = getMean(img)\n",
    "    var = getVariance(img, _mean)\n",
    "    for i in range(w):\n",
    "        for j in range(h):\n",
    "            diff = math.fabs(img[i, j] - _mean)*math.sqrt(nVar/var)\n",
    "            if img[i,j] > _mean:\n",
    "                img[i, j] = nMean + diff\n",
    "            else: img[i, j] = nMean - diff\n",
    "    return img"
   ]
  },
  {
   "cell_type": "code",
   "execution_count": 10,
   "metadata": {},
   "outputs": [],
   "source": [
    "def sobelY(image, i, j):\n",
    "    return image[i + 2, j] + 2 * image[i + 2, j + 1] + image[i + 2, j + 2] - image[i, j] - 2 * image[i, j + 1] - image[i, j + 2]\n",
    "\n",
    "\n",
    "def sobelX(image, i, j):\n",
    "    return image[i, j + 2] + 2 * image[i + 1, j + 2] + image[i + 2, j + 2] - image[i, j] - 2 * image[i + 1, j] - image[i + 2, j]\n",
    "\n",
    "\n",
    "def orientation_estimation(img, wS=4):\n",
    "    width, height = img.shape\n",
    "    #ft_img = np.zeros((height, width))\n",
    "    direct = np.zeros((height, width))\n",
    "    #g_kernel = np.zeros((height, width))\n",
    "   \n",
    "    for i in range(wS + 1, width - wS - 1):\n",
    "        for j in range(wS + 1, height - wS - 1):\n",
    "            gXX = gXY = gYY = 0\n",
    "            for k in range(i - wS, i + wS - 1):\n",
    "                for l in range(j - wS, j + wS - 1):\n",
    "                    gX = sobelX(img, k, l)\n",
    "                    gY = sobelY(img, k, l)\n",
    "                    gXX += gX*gX\n",
    "                    gXY += gX*gY\n",
    "                    gYY += gY*gY\n",
    "            direct[i, j] = 0.5*math.atan2(2*gXY,gXX-gYY)\n",
    "    \n",
    "            #g_kernel[i, j] = cv2.getGaborKernel((4, 4), 8.0, d, 10.0, 0.5, 0, ktype=cv2.CV_32F)\n",
    "            #ft_img[i, j] = cv2.filter2D(img[wS+i, wS+j], cv2.CV_8UC3, g_kernel)\n",
    "    return direct\n",
    "\n",
    "def gabor_filter(img, wS=4):\n",
    "    width, height = img.shape\n",
    "    #ft_img = np.zeros((height, width))\n",
    "    g_kernel = []\n",
    "    direct = orientation_estimation(img, wS=4)\n",
    "    \n",
    "    for i in range(5, 250, 4):\n",
    "        for j in range(5, 250, 4):\n",
    "            g_kernel.append(cv2.getGaborKernel((4, 4), 8.0, direct[i][j], 10.0, 0.5, 0, ktype=cv2.CV_32F))\n",
    "            #g_kernel[i, j] = cv2.getGaborKernel((4, 4), 8.0, d, 10.0, 0.5, 0, ktype=cv2.CV_32F)\n",
    "            #ft_img[i, j] = cv2.filter2D(img[wS+i, wS+j], cv2.CV_8UC3, g_kernel)\n",
    "    return g_kernel"
   ]
  },
  {
   "cell_type": "code",
   "execution_count": 14,
   "metadata": {},
   "outputs": [
    {
     "name": "stdout",
     "output_type": "stream",
     "text": [
      "mean =  125.09843146238114\n",
      "var =  11915.171553172693\n",
      "(103, 96)\n"
     ]
    }
   ],
   "source": [
    "import cv2\n",
    "a = cv2.imread('hi.bmp')\n",
    "gray = grayscale(a)\n",
    "#gray1=  cv2.cvtColor(a, cv2.COLOR_BGR2GRAY)\n",
    "#status= cv2.imwrite('123.bmp',gray)\n",
    "#status1 = cv2.imwrite('124.bmp', gray1)\n",
    "\n",
    "normal = normalize(gray, 50, 300)\n",
    "print(normal.shape)\n",
    "\n",
    "a[:, :, 0] = a[:, :, 1] = a[:, :, 2] = normal\n",
    "#direct = orientation_estimation(normal)\n",
    "#k_kernel = gabor_filter(normal)\n",
    "#print(k_kernel)\n",
    "#filtered_img = cv2.filter2D(a, cv2.CV_8UC3, g_kernel)\n",
    "cv2.imshow('1',a)\n",
    "#cv2.imshow('2', ft_img)\n",
    "#cv2.imshow('3', gray1)\n",
    "#cv2.waitKey()\n"
   ]
  },
  {
   "cell_type": "code",
   "execution_count": null,
   "metadata": {},
   "outputs": [],
   "source": []
  },
  {
   "cell_type": "code",
   "execution_count": null,
   "metadata": {},
   "outputs": [],
   "source": []
  }
 ],
 "metadata": {
  "kernelspec": {
   "display_name": "Python 3",
   "language": "python",
   "name": "python3"
  },
  "language_info": {
   "codemirror_mode": {
    "name": "ipython",
    "version": 3
   },
   "file_extension": ".py",
   "mimetype": "text/x-python",
   "name": "python",
   "nbconvert_exporter": "python",
   "pygments_lexer": "ipython3",
   "version": "3.7.1"
  }
 },
 "nbformat": 4,
 "nbformat_minor": 2
}
